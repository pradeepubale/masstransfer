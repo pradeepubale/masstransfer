{
 "cells": [
  {
   "cell_type": "code",
   "execution_count": 1,
   "metadata": {},
   "outputs": [],
   "source": [
    "\"\"\"\n",
    "    Run the basic neddy gridy parts of the project.\n",
    "    \n",
    "\"\"\"\n",
    "\n",
    "from sympy import *\n",
    "import numpy as np\n",
    "#from mpmath import *"
   ]
  },
  {
   "cell_type": "code",
   "execution_count": 2,
   "metadata": {},
   "outputs": [],
   "source": [
    "# Declaring variables.\n",
    "\n",
    "init_printing() # for nice output."
   ]
  },
  {
   "cell_type": "code",
   "execution_count": 3,
   "metadata": {},
   "outputs": [
    {
     "data": {
      "text/plain": [
       "'\\n# the moment we put the values we can see the value of an expression.\\neta = 1.0  # n as eta in greek ƞ\\nt = 0.5\\nG = 9.81  # Gravitational constant.\\nlamda = 0.7\\nRc = 0.2\\n'"
      ]
     },
     "execution_count": 3,
     "metadata": {},
     "output_type": "execute_result"
    }
   ],
   "source": [
    "# symbolize the variables.\n",
    "\n",
    "t = Symbol('t')\n",
    "G = Symbol('G')\n",
    "eta = Symbol('ƞ')\n",
    "lamda = Symbol('λ') # symbolize λ\n",
    "Rc = Symbol('Rc')\n",
    "\n",
    "\n",
    "\"\"\"\n",
    "# the moment we put the values we can see the value of an expression.\n",
    "eta = 1.0  # n as eta in greek ƞ\n",
    "t = 0.5\n",
    "G = 9.81  # Gravitational constant.\n",
    "lamda = 0.7\n",
    "Rc = 0.2\n",
    "\"\"\""
   ]
  },
  {
   "cell_type": "code",
   "execution_count": 4,
   "metadata": {},
   "outputs": [
    {
     "name": "stdout",
     "output_type": "stream",
     "text": [
      "(4*Rc**2*t**2 + t**2*λ**2)**(1/4)\n",
      "   __________________\n",
      "4 ╱     2  2    2  2 \n",
      "╲╱  4⋅Rc ⋅t  + t ⋅λ  \n"
     ]
    },
    {
     "data": {
      "image/png": "[encoded data removed]",
      "text/latex": [
       "$\\displaystyle \\sqrt[4]{4 Rc^{2} t^{2} + t^{2} λ^{2}}$"
      ],
      "text/plain": [
       "   __________________\n",
       "4 ╱     2  2    2  2 \n",
       "╲╱  4⋅Rc ⋅t  + t ⋅λ  "
      ]
     },
     "execution_count": 4,
     "metadata": {},
     "output_type": "execute_result"
    }
   ],
   "source": [
    "# testing exponential function.\n",
    "f = Function('f')\n",
    "f = sqrt(sqrt(lamda**2 * t**2 + 4*Rc**2 * t**2))\n",
    "\n",
    "print(f)\n",
    "pprint(f)\n",
    "f"
   ]
  },
  {
   "cell_type": "code",
   "execution_count": 5,
   "metadata": {},
   "outputs": [
    {
     "name": "stdout",
     "output_type": "stream",
     "text": [
      "(4*Rc**2*t**2 + 0.49*t**2)**(1/4)\n",
      "(1.0*Rc**2 + 0.25*λ**2)**(1/4)\n",
      "(t**2*λ**2 + 0.16*t**2)**(1/4)\n"
     ]
    }
   ],
   "source": [
    "print(f.subs(lamda, 0.7))\n",
    "print(f.subs(t, 0.5))\n",
    "print(f.subs(Rc, 0.2))"
   ]
  },
  {
   "cell_type": "code",
   "execution_count": 6,
   "metadata": {},
   "outputs": [
    {
     "data": {
      "image/png": "[encoded data removed]",
      "text/latex": [
       "$\\displaystyle \\sqrt[4]{t^{2} \\left(4 Rc^{2} + λ^{2}\\right)}$"
      ],
      "text/plain": [
       "   _________________\n",
       "4 ╱  2 ⎛    2    2⎞ \n",
       "╲╱  t ⋅⎝4⋅Rc  + λ ⎠ "
      ]
     },
     "execution_count": 6,
     "metadata": {},
     "output_type": "execute_result"
    }
   ],
   "source": [
    "simplify(f)"
   ]
  },
  {
   "cell_type": "code",
   "execution_count": 7,
   "metadata": {},
   "outputs": [
    {
     "data": {
      "image/png": "[encoded data removed]",
      "text/latex": [
       "$\\displaystyle \\sqrt[4]{4 Rc^{2} t^{2} + t^{2} λ^{2}}$"
      ],
      "text/plain": [
       "   __________________\n",
       "4 ╱     2  2    2  2 \n",
       "╲╱  4⋅Rc ⋅t  + t ⋅λ  "
      ]
     },
     "execution_count": 7,
     "metadata": {},
     "output_type": "execute_result"
    }
   ],
   "source": [
    "expand(f)"
   ]
  },
  {
   "cell_type": "code",
   "execution_count": 8,
   "metadata": {},
   "outputs": [
    {
     "data": {
      "image/png": "[encoded data removed]",
      "text/latex": [
       "$\\displaystyle \\left(4.0 Rc^{2} t^{2} + t^{2} λ^{2}\\right)^{0.25}$"
      ],
      "text/plain": [
       "                    0.25\n",
       "⎛      2  2    2  2⎞    \n",
       "⎝4.0⋅Rc ⋅t  + t ⋅λ ⎠    "
      ]
     },
     "execution_count": 8,
     "metadata": {},
     "output_type": "execute_result"
    }
   ],
   "source": [
    "f.evalf()"
   ]
  },
  {
   "cell_type": "code",
   "execution_count": 9,
   "metadata": {},
   "outputs": [
    {
     "data": {
      "image/png": "[encoded data removed]",
      "text/latex": [
       "$\\displaystyle \\cos{\\left(\\frac{\\operatorname{atan}{\\left(\\frac{2 Rc}{λ} \\right)}}{2} \\right)}$"
      ],
      "text/plain": [
       "   ⎛    ⎛2⋅Rc⎞⎞\n",
       "   ⎜atan⎜────⎟⎟\n",
       "   ⎜    ⎝ λ  ⎠⎟\n",
       "cos⎜──────────⎟\n",
       "   ⎝    2     ⎠"
      ]
     },
     "execution_count": 9,
     "metadata": {},
     "output_type": "execute_result"
    }
   ],
   "source": [
    "cos(S(1)/2 * atan(2*Rc/lamda))"
   ]
  },
  {
   "cell_type": "code",
   "execution_count": 10,
   "metadata": {},
   "outputs": [
    {
     "data": {
      "image/png": "[encoded data removed]",
      "text/latex": [
       "$\\displaystyle \\sin{\\left(\\frac{\\operatorname{atan}{\\left(\\frac{2 Rc}{λ} \\right)}}{2} \\right)}$"
      ],
      "text/plain": [
       "   ⎛    ⎛2⋅Rc⎞⎞\n",
       "   ⎜atan⎜────⎟⎟\n",
       "   ⎜    ⎝ λ  ⎠⎟\n",
       "sin⎜──────────⎟\n",
       "   ⎝    2     ⎠"
      ]
     },
     "execution_count": 10,
     "metadata": {},
     "output_type": "execute_result"
    }
   ],
   "source": [
    "sin(S(1)/2 * atan(2*Rc/lamda))"
   ]
  },
  {
   "cell_type": "code",
   "execution_count": 14,
   "metadata": {},
   "outputs": [
    {
     "data": {
      "image/png": "[encoded data removed]",
      "text/latex": [
       "$\\displaystyle i$"
      ],
      "text/plain": [
       "ⅈ"
      ]
     },
     "execution_count": 14,
     "metadata": {},
     "output_type": "execute_result"
    }
   ],
   "source": [
    "I"
   ]
  },
  {
   "cell_type": "code",
   "execution_count": 13,
   "metadata": {},
   "outputs": [
    {
     "data": {
      "image/png": "[encoded data removed]",
      "text/latex": [
       "$\\displaystyle e^{- 2 ƞ \\left(i \\sqrt[4]{4 Rc^{2} t^{2} + t^{2} λ^{2}} \\sin{\\left(\\frac{\\operatorname{atan}{\\left(\\frac{2 Rc}{λ} \\right)}}{2} \\right)} + \\sqrt[4]{4 Rc^{2} t^{2} + t^{2} λ^{2}} \\cos{\\left(\\frac{\\operatorname{atan}{\\left(\\frac{2 Rc}{λ} \\right)}}{2} \\right)}\\right)}$"
      ],
      "text/plain": [
       "      ⎛                           ⎛    ⎛2⋅Rc⎞⎞                            ⎛   \n",
       "      ⎜     __________________    ⎜atan⎜────⎟⎟      __________________    ⎜ata\n",
       "      ⎜  4 ╱     2  2    2  2     ⎜    ⎝ λ  ⎠⎟   4 ╱     2  2    2  2     ⎜   \n",
       " -2⋅ƞ⋅⎜ⅈ⋅╲╱  4⋅Rc ⋅t  + t ⋅λ  ⋅sin⎜──────────⎟ + ╲╱  4⋅Rc ⋅t  + t ⋅λ  ⋅cos⎜───\n",
       "      ⎝                           ⎝    2     ⎠                            ⎝   \n",
       "ℯ                                                                             \n",
       "\n",
       " ⎛2⋅Rc⎞⎞⎞\n",
       "n⎜────⎟⎟⎟\n",
       " ⎝ λ  ⎠⎟⎟\n",
       "───────⎟⎟\n",
       " 2     ⎠⎠\n",
       "         "
      ]
     },
     "execution_count": 13,
     "metadata": {},
     "output_type": "execute_result"
    }
   ],
   "source": [
    "exp(((-2 * eta) * (sqrt(sqrt(lamda**2 * t**2 + 4*Rc**2 * t**2)) * cos(S(1)/2 * atan(2*Rc/lamda)) + I*sqrt(sqrt(lamda**2 * t**2 + 4*Rc**2 * t**2)) * sin(S(1)/2 * atan(2*Rc/lamda)))))\n",
    "   "
   ]
  },
  {
   "cell_type": "code",
   "execution_count": 15,
   "metadata": {},
   "outputs": [
    {
     "data": {
      "image/png": "[encoded data removed]",
      "text/latex": [
       "$\\displaystyle e^{- 2 ƞ}$"
      ],
      "text/plain": [
       " -2⋅ƞ\n",
       "ℯ    "
      ]
     },
     "execution_count": 15,
     "metadata": {},
     "output_type": "execute_result"
    }
   ],
   "source": [
    "exp(-2 * eta)"
   ]
  },
  {
   "cell_type": "code",
   "execution_count": 16,
   "metadata": {},
   "outputs": [
    {
     "data": {
      "image/png": "[encoded data removed]",
      "text/latex": [
       "$\\displaystyle e^{- 2 ƞ \\sqrt[4]{4 Rc^{2} t^{2} + t^{2} λ^{2}}}$"
      ],
      "text/plain": [
       "         __________________\n",
       "      4 ╱     2  2    2  2 \n",
       " -2⋅ƞ⋅╲╱  4⋅Rc ⋅t  + t ⋅λ  \n",
       "ℯ                          "
      ]
     },
     "execution_count": 16,
     "metadata": {},
     "output_type": "execute_result"
    }
   ],
   "source": [
    "exp((-2 * eta)*(sqrt(sqrt(lamda**2 * t**2 + 4*Rc**2 * t**2))))"
   ]
  },
  {
   "cell_type": "code",
   "execution_count": 17,
   "metadata": {},
   "outputs": [
    {
     "data": {
      "image/png": "[encoded data removed]",
      "text/latex": [
       "$\\displaystyle \\sqrt[4]{4 Rc^{2} t^{2} + t^{2} λ^{2}}$"
      ],
      "text/plain": [
       "   __________________\n",
       "4 ╱     2  2    2  2 \n",
       "╲╱  4⋅Rc ⋅t  + t ⋅λ  "
      ]
     },
     "execution_count": 17,
     "metadata": {},
     "output_type": "execute_result"
    }
   ],
   "source": [
    "(sqrt(sqrt(lamda**2 * t**2 + 4*Rc**2 * t**2)))"
   ]
  },
  {
   "cell_type": "code",
   "execution_count": 18,
   "metadata": {},
   "outputs": [
    {
     "data": {
      "image/png": "[encoded data removed]",
      "text/latex": [
       "$\\displaystyle e^{- 2 ƞ \\left\\{i \\sqrt[4]{4 Rc^{2} t^{2} + t^{2} λ^{2}} \\sin{\\left(\\frac{\\operatorname{atan}{\\left(\\frac{2 Rc}{λ} \\right)}}{2} \\right)} + \\sqrt[4]{4 Rc^{2} t^{2} + t^{2} λ^{2}} \\cos{\\left(\\frac{\\operatorname{atan}{\\left(\\frac{2 Rc}{λ} \\right)}}{2} \\right)}\\right\\}}$"
      ],
      "text/plain": [
       "      ⎧                           ⎛    ⎛2⋅Rc⎞⎞                            ⎛   \n",
       "      ⎪     __________________    ⎜atan⎜────⎟⎟      __________________    ⎜ata\n",
       "      ⎨  4 ╱     2  2    2  2     ⎜    ⎝ λ  ⎠⎟   4 ╱     2  2    2  2     ⎜   \n",
       " -2⋅ƞ⋅⎪ⅈ⋅╲╱  4⋅Rc ⋅t  + t ⋅λ  ⋅sin⎜──────────⎟ + ╲╱  4⋅Rc ⋅t  + t ⋅λ  ⋅cos⎜───\n",
       "      ⎩                           ⎝    2     ⎠                            ⎝   \n",
       "ℯ                                                                             \n",
       "\n",
       " ⎛2⋅Rc⎞⎞⎫\n",
       "n⎜────⎟⎟⎪\n",
       " ⎝ λ  ⎠⎟⎬\n",
       "───────⎟⎪\n",
       " 2     ⎠⎭\n",
       "         "
      ]
     },
     "execution_count": 18,
     "metadata": {},
     "output_type": "execute_result"
    }
   ],
   "source": [
    "exp((-2 * eta)*{(sqrt(sqrt(lamda**2 * t**2 + 4*Rc**2 * t**2))) * cos(S(1)/2 * atan(2*Rc/lamda)) + I*sqrt(sqrt(lamda**2 * t**2 + 4*Rc**2 * t**2)) * sin(S(1)/2 * atan(2*Rc/lamda))})"
   ]
  },
  {
   "cell_type": "code",
   "execution_count": 20,
   "metadata": {},
   "outputs": [
    {
     "data": {
      "image/png": "[encoded data removed]",
      "text/latex": [
       "$\\displaystyle e^{- 2 ƞ \\left\\{i \\sqrt[4]{4 Rc^{2} t^{2} + t^{2} λ^{2}} \\sin{\\left(\\frac{\\operatorname{atan}{\\left(\\frac{2 Rc}{λ} \\right)}}{2} \\right)} + \\sqrt[4]{4 Rc^{2} t^{2} + t^{2} λ^{2}} \\cos{\\left(\\frac{\\operatorname{atan}{\\left(\\frac{2 Rc}{λ} \\right)}}{2} \\right)}\\right\\}}$"
      ],
      "text/plain": [
       "      ⎧                           ⎛    ⎛2⋅Rc⎞⎞                            ⎛   \n",
       "      ⎪     __________________    ⎜atan⎜────⎟⎟      __________________    ⎜ata\n",
       "      ⎨  4 ╱     2  2    2  2     ⎜    ⎝ λ  ⎠⎟   4 ╱     2  2    2  2     ⎜   \n",
       " -2⋅ƞ⋅⎪ⅈ⋅╲╱  4⋅Rc ⋅t  + t ⋅λ  ⋅sin⎜──────────⎟ + ╲╱  4⋅Rc ⋅t  + t ⋅λ  ⋅cos⎜───\n",
       "      ⎩                           ⎝    2     ⎠                            ⎝   \n",
       "ℯ                                                                             \n",
       "\n",
       " ⎛2⋅Rc⎞⎞⎫\n",
       "n⎜────⎟⎟⎪\n",
       " ⎝ λ  ⎠⎟⎬\n",
       "───────⎟⎪\n",
       " 2     ⎠⎭\n",
       "         "
      ]
     },
     "execution_count": 20,
     "metadata": {},
     "output_type": "execute_result"
    }
   ],
   "source": [
    "exp((-2 * eta)*{(sqrt(sqrt(lamda**2 * t**2 + 4*Rc**2 * t**2))) * cos(S(1)/2 * atan(2*Rc/lamda)) + I*sqrt(sqrt(lamda**2 * t**2 + 4*Rc**2 * t**2)) * sin(S(1)/2 * atan(2*Rc/lamda))})"
   ]
  },
  {
   "cell_type": "code",
   "execution_count": 21,
   "metadata": {},
   "outputs": [
    {
     "data": {
      "image/png": "[encoded data removed]",
      "text/latex": [
       "$\\displaystyle \\operatorname{erfc}{\\left(ƞ + i \\sqrt[4]{4 Rc^{2} t^{2} + t^{2} λ^{2}} \\sin{\\left(\\frac{\\operatorname{atan}{\\left(\\frac{2 Rc}{λ} \\right)}}{2} \\right)} - \\sqrt[4]{4 Rc^{2} t^{2} + t^{2} λ^{2}} \\cos{\\left(\\frac{\\operatorname{atan}{\\left(\\frac{2 Rc}{λ} \\right)}}{2} \\right)} \\right)}$"
      ],
      "text/plain": [
       "    ⎛                               ⎛    ⎛2⋅Rc⎞⎞                            ⎛ \n",
       "    ⎜         __________________    ⎜atan⎜────⎟⎟      __________________    ⎜a\n",
       "    ⎜      4 ╱     2  2    2  2     ⎜    ⎝ λ  ⎠⎟   4 ╱     2  2    2  2     ⎜ \n",
       "erfc⎜ƞ + ⅈ⋅╲╱  4⋅Rc ⋅t  + t ⋅λ  ⋅sin⎜──────────⎟ - ╲╱  4⋅Rc ⋅t  + t ⋅λ  ⋅cos⎜─\n",
       "    ⎝                               ⎝    2     ⎠                            ⎝ \n",
       "\n",
       "   ⎛2⋅Rc⎞⎞⎞\n",
       "tan⎜────⎟⎟⎟\n",
       "   ⎝ λ  ⎠⎟⎟\n",
       "─────────⎟⎟\n",
       "   2     ⎠⎠"
      ]
     },
     "execution_count": 21,
     "metadata": {},
     "output_type": "execute_result"
    }
   ],
   "source": [
    "# 5 Nov 2019 update.\n",
    "# erf(): error function.\n",
    "# erfc(): complementary error function.\n",
    "\n",
    "erfc( eta - (sqrt(sqrt(lamda**2 * t**2 + 4*Rc**2 * t**2))) * cos(S(1)/2 * atan(2*Rc/lamda)) + I*sqrt(sqrt(lamda**2 * t**2 + 4*Rc**2 * t**2)) * sin(S(1)/2 * atan(2*Rc/lamda)) )"
   ]
  },
  {
   "cell_type": "code",
   "execution_count": 22,
   "metadata": {},
   "outputs": [
    {
     "data": {
      "image/png": "[encoded data removed]",
      "text/latex": [
       "$\\displaystyle \\operatorname{erfc}{\\left(ƞ + i \\sqrt[4]{4 Rc^{2} t^{2} + t^{2} λ^{2}} \\sin{\\left(\\frac{\\operatorname{atan}{\\left(\\frac{2 Rc}{λ} \\right)}}{2} \\right)} + \\sqrt[4]{4 Rc^{2} t^{2} + t^{2} λ^{2}} \\cos{\\left(\\frac{\\operatorname{atan}{\\left(\\frac{2 Rc}{λ} \\right)}}{2} \\right)} \\right)}$"
      ],
      "text/plain": [
       "    ⎛                               ⎛    ⎛2⋅Rc⎞⎞                            ⎛ \n",
       "    ⎜         __________________    ⎜atan⎜────⎟⎟      __________________    ⎜a\n",
       "    ⎜      4 ╱     2  2    2  2     ⎜    ⎝ λ  ⎠⎟   4 ╱     2  2    2  2     ⎜ \n",
       "erfc⎜ƞ + ⅈ⋅╲╱  4⋅Rc ⋅t  + t ⋅λ  ⋅sin⎜──────────⎟ + ╲╱  4⋅Rc ⋅t  + t ⋅λ  ⋅cos⎜─\n",
       "    ⎝                               ⎝    2     ⎠                            ⎝ \n",
       "\n",
       "   ⎛2⋅Rc⎞⎞⎞\n",
       "tan⎜────⎟⎟⎟\n",
       "   ⎝ λ  ⎠⎟⎟\n",
       "─────────⎟⎟\n",
       "   2     ⎠⎠"
      ]
     },
     "execution_count": 22,
     "metadata": {},
     "output_type": "execute_result"
    }
   ],
   "source": [
    "# same above equation with just + sign.\n",
    "erfc( eta + (sqrt(sqrt(lamda**2 * t**2 + 4*Rc**2 * t**2))) * cos(S(1)/2 * atan(2*Rc/lamda)) + I*sqrt(sqrt(lamda**2 * t**2 + 4*Rc**2 * t**2)) * sin(S(1)/2 * atan(2*Rc/lamda)) )"
   ]
  },
  {
   "cell_type": "code",
   "execution_count": 23,
   "metadata": {},
   "outputs": [
    {
     "data": {
      "image/png": "[encoded data removed]",
      "text/latex": [
       "$\\displaystyle e^{2 ƞ \\left\\{i \\sqrt[4]{4 Rc^{2} t^{2} + t^{2} λ^{2}} \\sin{\\left(\\frac{\\operatorname{atan}{\\left(\\frac{2 Rc}{λ} \\right)}}{2} \\right)} + \\sqrt[4]{4 Rc^{2} t^{2} + t^{2} λ^{2}} \\cos{\\left(\\frac{\\operatorname{atan}{\\left(\\frac{2 Rc}{λ} \\right)}}{2} \\right)}\\right\\}}$"
      ],
      "text/plain": [
       "     ⎧                           ⎛    ⎛2⋅Rc⎞⎞                            ⎛    \n",
       "     ⎪     __________________    ⎜atan⎜────⎟⎟      __________________    ⎜atan\n",
       "     ⎨  4 ╱     2  2    2  2     ⎜    ⎝ λ  ⎠⎟   4 ╱     2  2    2  2     ⎜    \n",
       " 2⋅ƞ⋅⎪ⅈ⋅╲╱  4⋅Rc ⋅t  + t ⋅λ  ⋅sin⎜──────────⎟ + ╲╱  4⋅Rc ⋅t  + t ⋅λ  ⋅cos⎜────\n",
       "     ⎩                           ⎝    2     ⎠                            ⎝    \n",
       "ℯ                                                                             \n",
       "\n",
       "⎛2⋅Rc⎞⎞⎫\n",
       "⎜────⎟⎟⎪\n",
       "⎝ λ  ⎠⎟⎬\n",
       "──────⎟⎪\n",
       "2     ⎠⎭\n",
       "        "
      ]
     },
     "execution_count": 23,
     "metadata": {},
     "output_type": "execute_result"
    }
   ],
   "source": [
    "# next part of equation with exp(2 * eta) positive part.\n",
    "exp((2 * eta)*{(sqrt(sqrt(lamda**2 * t**2 + 4*Rc**2 * t**2))) * cos(S(1)/2 * atan(2*Rc/lamda)) + I*sqrt(sqrt(lamda**2 * t**2 + 4*Rc**2 * t**2)) * sin(S(1)/2 * atan(2*Rc/lamda))})"
   ]
  },
  {
   "cell_type": "code",
   "execution_count": null,
   "metadata": {},
   "outputs": [],
   "source": []
  },
  {
   "cell_type": "code",
   "execution_count": null,
   "metadata": {},
   "outputs": [],
   "source": []
  },
  {
   "cell_type": "code",
   "execution_count": null,
   "metadata": {},
   "outputs": [],
   "source": []
  },
  {
   "cell_type": "code",
   "execution_count": null,
   "metadata": {},
   "outputs": [],
   "source": []
  }
 ],
 "metadata": {
  "kernelspec": {
   "display_name": "Python 3",
   "language": "python",
   "name": "python3"
  },
  "language_info": {
   "codemirror_mode": {
    "name": "ipython",
    "version": 3
   },
   "file_extension": ".py",
   "mimetype": "text/x-python",
   "name": "python",
   "nbconvert_exporter": "python",
   "pygments_lexer": "ipython3",
   "version": "3.7.4"
  }
 },
 "nbformat": 4,
 "nbformat_minor": 2
}
